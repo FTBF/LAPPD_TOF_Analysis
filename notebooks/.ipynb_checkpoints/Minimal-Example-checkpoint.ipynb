{
 "cells": [
  {
   "cell_type": "code",
   "execution_count": 1,
   "metadata": {},
   "outputs": [],
   "source": [
    "import numpy as np\n",
    "import glob\n",
    "import sys\n",
    "sys.path.append(\"../\")\n",
    "import Acdc "
   ]
  },
  {
   "cell_type": "markdown",
   "metadata": {},
   "source": [
    "# Create dictionaries for loading configurations nicely\n",
    "### Also define some filepaths that should be adjusted based on your environment"
   ]
  },
  {
   "cell_type": "code",
   "execution_count": 6,
   "metadata": {},
   "outputs": [
    {
     "ename": "ValueError",
     "evalue": "too many values to unpack (expected 2)",
     "output_type": "error",
     "traceback": [
      "\u001b[1;31m---------------------------------------------------------------------------\u001b[0m",
      "\u001b[1;31mValueError\u001b[0m                                Traceback (most recent call last)",
      "Cell \u001b[1;32mIn[6], line 20\u001b[0m\n\u001b[0;32m     18\u001b[0m \u001b[38;5;66;03m#initialize the acdc objects\u001b[39;00m\n\u001b[0;32m     19\u001b[0m \u001b[38;5;28;01mfor\u001b[39;00m acdc_num, a \u001b[38;5;129;01min\u001b[39;00m acdcs\u001b[38;5;241m.\u001b[39mitems():\n\u001b[1;32m---> 20\u001b[0m     a[\u001b[38;5;124m\"\u001b[39m\u001b[38;5;124mobj\u001b[39m\u001b[38;5;124m\"\u001b[39m] \u001b[38;5;241m=\u001b[39m \u001b[43mAcdc\u001b[49m\u001b[38;5;241;43m.\u001b[39;49m\u001b[43mAcdc\u001b[49m\u001b[43m(\u001b[49m\u001b[43ma\u001b[49m\u001b[43m[\u001b[49m\u001b[38;5;124;43m\"\u001b[39;49m\u001b[38;5;124;43mconfig\u001b[39;49m\u001b[38;5;124;43m\"\u001b[39;49m\u001b[43m]\u001b[49m\u001b[43m)\u001b[49m\n\u001b[0;32m     22\u001b[0m     \u001b[38;5;66;03m#the configuration is now parsed, so we can find which station id\u001b[39;00m\n\u001b[0;32m     23\u001b[0m     \u001b[38;5;66;03m#in order to parse the filetag at the end of the data filenames. \u001b[39;00m\n\u001b[0;32m     24\u001b[0m     bnum \u001b[38;5;241m=\u001b[39m a[\u001b[38;5;124m\"\u001b[39m\u001b[38;5;124mobj\u001b[39m\u001b[38;5;124m\"\u001b[39m]\u001b[38;5;241m.\u001b[39mc[\u001b[38;5;124m\"\u001b[39m\u001b[38;5;124mstation_id\u001b[39m\u001b[38;5;124m\"\u001b[39m]\n",
      "File \u001b[1;32m~\\Desktop\\School\\Frisch_Group\\Analysis\\LAPPD_TOF_Analysis\\notebooks\\..\\Acdc.py:83\u001b[0m, in \u001b[0;36mAcdc.__init__\u001b[1;34m(self, config_data)\u001b[0m\n\u001b[0;32m     80\u001b[0m \t\u001b[38;5;28mself\u001b[39m\u001b[38;5;241m.\u001b[39mrq_config \u001b[38;5;241m=\u001b[39m \u001b[38;5;28;01mNone\u001b[39;00m\n\u001b[0;32m     82\u001b[0m \u001b[38;5;28mself\u001b[39m\u001b[38;5;241m.\u001b[39moutput \u001b[38;5;241m=\u001b[39m {}\n\u001b[1;32m---> 83\u001b[0m \u001b[38;5;28;01mfor\u001b[39;00m key, init_value \u001b[38;5;129;01min\u001b[39;00m \u001b[38;5;28mself\u001b[39m\u001b[38;5;241m.\u001b[39mrq_config:\n\u001b[0;32m     84\u001b[0m \t\u001b[38;5;28mself\u001b[39m\u001b[38;5;241m.\u001b[39moutput[key] \u001b[38;5;241m=\u001b[39m init_value\n\u001b[0;32m     86\u001b[0m \u001b[38;5;28;01mif\u001b[39;00m \u001b[38;5;129;01mnot\u001b[39;00m \u001b[38;5;28mself\u001b[39m\u001b[38;5;241m.\u001b[39mc[\u001b[38;5;124m\"\u001b[39m\u001b[38;5;124mQUIET\u001b[39m\u001b[38;5;124m\"\u001b[39m]:\n",
      "\u001b[1;31mValueError\u001b[0m: too many values to unpack (expected 2)"
     ]
    }
   ],
   "source": [
    "#Structure of this dict:\n",
    "#key: acdc number\n",
    "#value: dict with the following keys\n",
    "#   obj: Acdc object itself\n",
    "#   config: configuration file path \n",
    "#   infiles: list of input data files for that board\n",
    "\n",
    "#this set of boards is used in the July 2024 proton data at test-beam\n",
    "acdcs = {44:{\"obj\":None, \"config\":\"../configs/acdc44.yml\", \"infiles\": [], \"pedfiles\": []}, \\\n",
    "        43:{\"obj\":None, \"config\":\"../configs/acdc43.yml\", \"infiles\": [], \"pedfiles\": []}}\n",
    "\n",
    "#Configure some data filepaths\n",
    "#you'll likely want to keep paths as we may be committing/pushing\n",
    "#multiple paths. Just use a comment\n",
    "datadir = \"../../data/20240701ProtonDataFTBF/\"\n",
    "\n",
    "\n",
    "#initialize the acdc objects\n",
    "for acdc_num, a in acdcs.items():\n",
    "    a[\"obj\"] = Acdc.Acdc(a[\"config\"])\n",
    "\n",
    "    #the configuration is now parsed, so we can find which station id\n",
    "    #in order to parse the filetag at the end of the data filenames. \n",
    "    bnum = a[\"obj\"].c[\"station_id\"]\n",
    "    #find all the data files for this board\n",
    "    a[\"infiles\"] = glob.glob(datadir + f\"Raw_Proton*b{bnum}.txt\")\n",
    "    #find all the pedestal files for this board\n",
    "    a[\"pedfiles\"] = glob.glob(datadir + f\"Raw_test*b{bnum}.txt\")\n",
    "\n",
    "    #short operation of calibrating the board based on the calibration file\n",
    "    a[\"obj\"].calibrate_board()\n",
    "    a[\"obj\"].process_files(a[\"infiles\"])\n",
    "    break\n"
   ]
  },
  {
   "cell_type": "code",
   "execution_count": null,
   "metadata": {},
   "outputs": [],
   "source": []
  },
  {
   "cell_type": "code",
   "execution_count": null,
   "metadata": {},
   "outputs": [],
   "source": []
  }
 ],
 "metadata": {
  "kernelspec": {
   "display_name": "Python 3 (ipykernel)",
   "language": "python",
   "name": "python3"
  },
  "language_info": {
   "codemirror_mode": {
    "name": "ipython",
    "version": 3
   },
   "file_extension": ".py",
   "mimetype": "text/x-python",
   "name": "python",
   "nbconvert_exporter": "python",
   "pygments_lexer": "ipython3",
   "version": "3.11.5"
  }
 },
 "nbformat": 4,
 "nbformat_minor": 4
}
