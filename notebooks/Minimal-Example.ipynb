{
 "cells": [
  {
   "cell_type": "code",
   "execution_count": 1,
   "metadata": {},
   "outputs": [],
   "source": [
    "import numpy as np\n",
    "import glob\n",
    "import sys\n",
    "sys.path.append(\"../\")\n",
    "import Acdc "
   ]
  },
  {
   "cell_type": "markdown",
   "metadata": {},
   "source": [
    "# Create dictionaries for loading configurations nicely\n",
    "### Also define some filepaths that should be adjusted based on your environment"
   ]
  },
  {
   "cell_type": "code",
   "execution_count": 2,
   "metadata": {},
   "outputs": [
    {
     "name": "stdout",
     "output_type": "stream",
     "text": [
      "ACDC instantiated\n",
      "  ACDC:    44\n",
      "  LAPPD:   157\n",
      "  ACC:     0\n",
      "  Station: 0\n",
      "\n"
     ]
    },
    {
     "name": "stderr",
     "output_type": "stream",
     "text": [
      "C:\\Users\\ahand\\AppData\\Local\\Programs\\Python\\Python311\\Lib\\site-packages\\scipy\\interpolate\\_fitpack_impl.py:285: RuntimeWarning: A theoretically impossible result when finding a smoothing spline\n",
      "with fp = s. Probable cause: s too small. (abs(fp-s)/s>0.001)\n",
      "  warnings.warn(RuntimeWarning(_iermess[ier][0]))\n"
     ]
    },
    {
     "name": "stdout",
     "output_type": "stream",
     "text": [
      "ACDC voltage calibrated with VCCs\n",
      "ACDC sample times calibrated\n",
      "\n",
      "Importing data from \"../../data/20240701ProtonDataFTBF\\Raw_ProtonData_20240701_130908_b0.txt\"\n",
      "Importing data from \"../../data/20240701ProtonDataFTBF\\Raw_ProtonData_20240701_131213_b0.txt\"\n",
      "Total skipped: 0.0%\n",
      "Total events analyzed: 4578\n",
      "Process time duration: 10.344 s\n",
      "Wall clock duration: 14.409 s\n"
     ]
    }
   ],
   "source": [
    "#Structure of this dict:\n",
    "#key: acdc number\n",
    "#value: dict with the following keys\n",
    "#   obj: Acdc object itself\n",
    "#   config: configuration file path \n",
    "#   infiles: list of input data files for that board\n",
    "\n",
    "#this set of boards is used in the July 2024 proton data at test-beam\n",
    "acdcs = {44:{\"obj\":None, \"config\":\"../configs/acdc44.yml\", \"infiles\": [], \"pedfiles\": []}, \\\n",
    "        43:{\"obj\":None, \"config\":\"../configs/acdc43.yml\", \"infiles\": [], \"pedfiles\": []}}\n",
    "\n",
    "#Configure some data filepaths\n",
    "#you'll likely want to keep paths as we may be committing/pushing\n",
    "#multiple paths. Just use a comment\n",
    "datadir = \"../../data/20240701ProtonDataFTBF/\"\n",
    "\n",
    "\n",
    "#initialize the acdc objects\n",
    "for acdc_num, a in acdcs.items():\n",
    "    a[\"obj\"] = Acdc.Acdc(a[\"config\"])\n",
    "\n",
    "    #the configuration is now parsed, so we can find which station id\n",
    "    #in order to parse the filetag at the end of the data filenames. \n",
    "    bnum = a[\"obj\"].c[\"station_id\"]\n",
    "    #find all the data files for this board\n",
    "    a[\"infiles\"] = glob.glob(datadir + f\"Raw_Proton*b{bnum}.txt\")\n",
    "    #find all the pedestal files for this board\n",
    "    a[\"pedfiles\"] = glob.glob(datadir + f\"Raw_test*b{bnum}.txt\")\n",
    "\n",
    "    #short operation of calibrating the board based on the calibration file\n",
    "    a[\"obj\"].calibrate_board()\n",
    "    a[\"obj\"].process_files(a[\"infiles\"])\n",
    "    break\n"
   ]
  },
  {
   "cell_type": "code",
   "execution_count": null,
   "metadata": {},
   "outputs": [],
   "source": []
  },
  {
   "cell_type": "code",
   "execution_count": null,
   "metadata": {},
   "outputs": [],
   "source": []
  }
 ],
 "metadata": {
  "kernelspec": {
   "display_name": "Python 3 (ipykernel)",
   "language": "python",
   "name": "python3"
  },
  "language_info": {
   "codemirror_mode": {
    "name": "ipython",
    "version": 3
   },
   "file_extension": ".py",
   "mimetype": "text/x-python",
   "name": "python",
   "nbconvert_exporter": "python",
   "pygments_lexer": "ipython3",
   "version": "3.11.5"
  }
 },
 "nbformat": 4,
 "nbformat_minor": 4
}
