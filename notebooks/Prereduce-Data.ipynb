{
 "cells": [
  {
   "cell_type": "code",
   "execution_count": null,
   "metadata": {},
   "outputs": [],
   "source": [
    "%load_ext autoreload\n",
    "%autoreload 2\n",
    "\n",
    "import numpy as np\n",
    "import glob\n",
    "import sys\n",
    "sys.path.append(\"../Acdc/\")\n",
    "sys.path.append(\"../Util/\")\n",
    "sys.path.append(\"../Analysis/\")\n",
    "sys.path.append(\"../WaveformPlotter/\")\n",
    "sys.path.append(\"../Errorcodes/\")\n",
    "import Acdc \n",
    "import Analysis\n",
    "import WaveformPlotter\n",
    "import matplotlib.pyplot as plt\n"
   ]
  },
  {
   "cell_type": "markdown",
   "metadata": {},
   "source": [
    "# Create dictionaries for loading configurations nicely\n",
    "### Also define some filepaths that should be adjusted based on your environment"
   ]
  },
  {
   "cell_type": "code",
   "execution_count": null,
   "metadata": {},
   "outputs": [],
   "source": [
    "#Structure of this dict:\n",
    "#key: acdc number\n",
    "#value: dict with the following keys\n",
    "#   obj: Acdc object itself\n",
    "#   config: configuration file path \n",
    "#   infiles: list of input data files for that board\n",
    "\n",
    "#this set of boards is used in the July 2024 proton data at test-beam\n",
    "acdcs = {44:{\"obj\":None, \"config\":\"../configs/acdc44.yml\", \"infiles\": [], \"pedfiles\": []}, \\\n",
    "\t43:{\"obj\":None, \"config\":\"../configs/acdc43.yml\", \"infiles\": [], \"pedfiles\": []}}\n",
    "\n",
    "#Configure some data filepaths\n",
    "#you'll likely want to keep paths as we may be committing/pushing\n",
    "#multiple paths. Just use a comment\n",
    "datadir = \"../../data/20240701ProtonDataFTBF/\"\n"
   ]
  },
  {
   "cell_type": "code",
   "execution_count": null,
   "metadata": {},
   "outputs": [],
   "source": [
    "#Do not run if you are already reading prereduced data files. Skip to the next cell.\n",
    "\n",
    "#load the waveforms into the events attribute\n",
    "for acdc_num, a in acdcs.items():\n",
    "\ta[\"obj\"] = Acdc.Acdc(a[\"config\"])\n",
    "\n",
    "\t#the configuration is now parsed, so we can find which station id\n",
    "\t#in order to parse the filetag at the end of the data filenames. \n",
    "\tbnum = a[\"obj\"].c[\"station_id\"]\n",
    "\t#find all the data files for this board\n",
    "\ta[\"infiles\"] = glob.glob(datadir + f\"Raw_Proton*b{bnum}.txt\")\n",
    "\t#find all the pedestal files for this board\n",
    "\ta[\"pedfiles\"] = glob.glob(datadir + f\"Raw_test*b{bnum}.txt\")\n",
    "\n",
    "\n",
    "\t#go file by file and save pre-reduced data for each file.\n",
    "\t#The machinery in the ACDC class can instead handle all files,\n",
    "\t# it is so resource and RAM intensive that I instead opt to save\n",
    "\t#a pre-reduced output file for each input file, looping individually. \n",
    "\tfor f in a[\"infiles\"]:\n",
    "\t\t#the function can take a list of files, \n",
    "\t\t#so I pass just the one we are working on\n",
    "\t\ta[\"obj\"].load_raw_data_to_events([f]) \n",
    "\n",
    "\t\t#loads root file containing linearity data, \n",
    "\t\t#calibrates pedestals based on ADC/voltage and does\n",
    "\t\t#pedestal subtraction, and loads timebase calibration.\n",
    "\t\t#Within these pedfiles, it finds the closest file to our\n",
    "\t\t#events without using a future pedfile. \n",
    "\t\ta[\"obj\"].calibrate_waveforms(a[\"pedfiles\"])\n",
    "\t\ta[\"obj\"].write_events_to_file(f.replace(\".txt\", \"_prereduced.p\"))\n",
    "\n",
    "\n"
   ]
  }
 ],
 "metadata": {
  "kernelspec": {
   "display_name": "lappd-tof-analysis",
   "language": "python",
   "name": "python3"
  },
  "language_info": {
   "codemirror_mode": {
    "name": "ipython",
    "version": 3
   },
   "file_extension": ".py",
   "mimetype": "text/x-python",
   "name": "python",
   "nbconvert_exporter": "python",
   "pygments_lexer": "ipython3",
   "version": "3.11.10"
  }
 },
 "nbformat": 4,
 "nbformat_minor": 4
}
