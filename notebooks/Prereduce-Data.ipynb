{
 "cells": [
  {
   "cell_type": "code",
   "execution_count": 14,
   "metadata": {},
   "outputs": [
    {
     "name": "stdout",
     "output_type": "stream",
     "text": [
      "The autoreload extension is already loaded. To reload it, use:\n",
      "  %reload_ext autoreload\n"
     ]
    }
   ],
   "source": [
    "%load_ext autoreload\n",
    "%autoreload 2\n",
    "\n",
    "import numpy as np\n",
    "import glob\n",
    "import sys\n",
    "sys.path.append(\"../Acdc/\")\n",
    "sys.path.append(\"../Util/\")\n",
    "import Acdc \n"
   ]
  },
  {
   "cell_type": "markdown",
   "metadata": {},
   "source": [
    "# Create dictionaries for loading configurations nicely\n",
    "### Also define some filepaths that should be adjusted based on your environment"
   ]
  },
  {
   "cell_type": "code",
   "execution_count": 15,
   "metadata": {},
   "outputs": [],
   "source": [
    "#Structure of this dict:\n",
    "#key: acdc number\n",
    "#value: dict with the following keys\n",
    "#   obj: Acdc object itself\n",
    "#   config: configuration file path \n",
    "#   infiles: list of input data files for that board\n",
    "\n",
    "#this set of boards is used in the July 2024 proton data at test-beam\n",
    "acdcs = {44:{\"obj\":None, \"config\":\"../configs/acdc44.yml\", \"infiles\": [], \"pedfiles\": []}, \\\n",
    "\t43:{\"obj\":None, \"config\":\"../configs/acdc43.yml\", \"infiles\": [], \"pedfiles\": []}}\n",
    "\n",
    "#Configure some data filepaths\n",
    "#you'll likely want to keep paths as we may be committing/pushing\n",
    "#multiple paths. Just use a comment\n",
    "datadir = \"../../data/20240701ProtonDataFTBF/\"\n"
   ]
  },
  {
   "cell_type": "code",
   "execution_count": null,
   "metadata": {},
   "outputs": [],
   "source": [
    "#load the waveforms into the events attribute\n",
    "for acdc_num, a in acdcs.items():\n",
    "\ta[\"obj\"] = Acdc.Acdc(a[\"config\"])\n",
    "\n",
    "\t#the configuration is now parsed, so we can find which station id\n",
    "\t#in order to parse the filetag at the end of the data filenames. \n",
    "\tbnum = a[\"obj\"].c[\"station_id\"]\n",
    "\t#find all the data files for this board\n",
    "\ta[\"infiles\"] = glob.glob(datadir + f\"Raw_Proton*b{bnum}.txt\")\n",
    "\t#find all the pedestal files for this board\n",
    "\ta[\"pedfiles\"] = glob.glob(datadir + f\"Raw_test*b{bnum}.txt\")\n",
    "\n",
    "\n",
    "\t#go file by file and save pre-reduced data for each file.\n",
    "\t#The machinery in the ACDC class can instead handle all files,\n",
    "\t# it is so resource and RAM intensive that I instead opt to save\n",
    "\t#a pre-reduced output file for each input file, looping individually. \n",
    "\tfor f in a[\"infiles\"]:\n",
    "\t\t#the function can take a list of files, \n",
    "\t\t#so I pass just the one we are working on\n",
    "\t\ta[\"obj\"].load_raw_data_to_events([f]) \n",
    "\n",
    "\t\t#loads root file containing linearity data, \n",
    "\t\t#calibrates pedestals based on ADC/voltage and does\n",
    "\t\t#pedestal subtraction, and loads timebase calibration.\n",
    "\t\t#Within these pedfiles, it finds the closest file to our\n",
    "\t\t#events without using a future pedfile. \n",
    "\t\ta[\"obj\"].calibrate_waveforms(a[\"pedfiles\"])\n",
    "\t\ta[\"obj\"].write_events_to_file(f.replace(\".txt\", \"_prereduced.p\"))\n",
    "\n",
    "\n"
   ]
  },
  {
   "cell_type": "code",
   "execution_count": null,
   "metadata": {},
   "outputs": [
    {
     "name": "stdout",
     "output_type": "stream",
     "text": [
      "Populating channel specific reduced quantities...\n"
     ]
    },
    {
     "ename": "ValueError",
     "evalue": "attempt to get argmax of an empty sequence",
     "output_type": "error",
     "traceback": [
      "\u001b[0;31m---------------------------------------------------------------------------\u001b[0m",
      "\u001b[0;31mValueError\u001b[0m                                Traceback (most recent call last)",
      "Cell \u001b[0;32mIn[16], line 13\u001b[0m\n\u001b[1;32m     11\u001b[0m \u001b[38;5;28;01melif\u001b[39;00m bnum \u001b[38;5;241m==\u001b[39m \u001b[38;5;241m0\u001b[39m:\n\u001b[1;32m     12\u001b[0m     a[\u001b[38;5;124m\"\u001b[39m\u001b[38;5;124mobj\u001b[39m\u001b[38;5;124m\"\u001b[39m]\u001b[38;5;241m.\u001b[39mread_events_from_file(\u001b[38;5;124m\"\u001b[39m\u001b[38;5;124m../../LAPPDTestData/Raw_ProtonData_20240701_135251_b1_prereduced.p\u001b[39m\u001b[38;5;124m\"\u001b[39m)\n\u001b[0;32m---> 13\u001b[0m \u001b[43ma\u001b[49m\u001b[43m[\u001b[49m\u001b[38;5;124;43m\"\u001b[39;49m\u001b[38;5;124;43mobj\u001b[39;49m\u001b[38;5;124;43m\"\u001b[39;49m\u001b[43m]\u001b[49m\u001b[38;5;241;43m.\u001b[39;49m\u001b[43mpopulate_ch_rqs\u001b[49m\u001b[43m(\u001b[49m\u001b[43m)\u001b[49m\n",
      "File \u001b[0;32m~/LAPPD_TOF_Analysis/notebooks/../Acdc/Acdc.py:481\u001b[0m, in \u001b[0;36mAcdc.populate_ch_rqs\u001b[0;34m(self)\u001b[0m\n\u001b[1;32m    479\u001b[0m \t\tpeak_times_ch\u001b[38;5;241m.\u001b[39mappend([\u001b[38;5;241m-\u001b[39m\u001b[38;5;241m1\u001b[39m, \u001b[38;5;241m-\u001b[39m\u001b[38;5;241m1\u001b[39m])\n\u001b[1;32m    480\u001b[0m \t\u001b[38;5;28;01melse\u001b[39;00m:\n\u001b[0;32m--> 481\u001b[0m \t\tpeak_times_ch\u001b[38;5;241m.\u001b[39mappend(\u001b[43mUtil\u001b[49m\u001b[38;5;241;43m.\u001b[39;49m\u001b[43mfind_peak_time\u001b[49m\u001b[43m(\u001b[49m\u001b[43mwaves\u001b[49m\u001b[43m[\u001b[49m\u001b[43mev\u001b[49m\u001b[43m,\u001b[49m\u001b[43m \u001b[49m\u001b[43mch\u001b[49m\u001b[43m]\u001b[49m\u001b[43m,\u001b[49m\u001b[43m \u001b[49m\u001b[38;5;28;43mself\u001b[39;49m\u001b[38;5;241;43m.\u001b[39;49m\u001b[43mtimes\u001b[49m\u001b[43m[\u001b[49m\u001b[43mch\u001b[49m\u001b[43m]\u001b[49m\u001b[43m)\u001b[49m)\n\u001b[1;32m    482\u001b[0m \u001b[38;5;28mself\u001b[39m\u001b[38;5;241m.\u001b[39mevents[\u001b[38;5;124m\"\u001b[39m\u001b[38;5;124mch\u001b[39m\u001b[38;5;132;01m{}\u001b[39;00m\u001b[38;5;124m_peak_times\u001b[39m\u001b[38;5;124m\"\u001b[39m\u001b[38;5;241m.\u001b[39mformat(ch)] \u001b[38;5;241m=\u001b[39m np\u001b[38;5;241m.\u001b[39marray(peak_times_ch)\n",
      "File \u001b[0;32m~/LAPPD_TOF_Analysis/notebooks/../Util/Util.py:266\u001b[0m, in \u001b[0;36mfind_peak_time\u001b[0;34m(ydata, timebase)\u001b[0m\n\u001b[1;32m    264\u001b[0m \u001b[38;5;28;01mdef\u001b[39;00m \u001b[38;5;21mfind_peak_time\u001b[39m(ydata, timebase):\n\u001b[1;32m    265\u001b[0m \t\u001b[38;5;66;03m#Find the time of the peak of the waveform.\u001b[39;00m\n\u001b[0;32m--> 266\u001b[0m \t\u001b[38;5;28;01mreturn\u001b[39;00m timebase[\u001b[43mnp\u001b[49m\u001b[38;5;241;43m.\u001b[39;49m\u001b[43margmax\u001b[49m\u001b[43m(\u001b[49m\u001b[43mydata\u001b[49m\u001b[43m)\u001b[49m]\n",
      "File \u001b[0;32m~/anaconda3/envs/lappd-tof-analysis/lib/python3.11/site-packages/numpy/core/fromnumeric.py:1229\u001b[0m, in \u001b[0;36margmax\u001b[0;34m(a, axis, out, keepdims)\u001b[0m\n\u001b[1;32m   1142\u001b[0m \u001b[38;5;250m\u001b[39m\u001b[38;5;124;03m\"\"\"\u001b[39;00m\n\u001b[1;32m   1143\u001b[0m \u001b[38;5;124;03mReturns the indices of the maximum values along an axis.\u001b[39;00m\n\u001b[1;32m   1144\u001b[0m \n\u001b[0;32m   (...)\u001b[0m\n\u001b[1;32m   1226\u001b[0m \u001b[38;5;124;03m(2, 1, 4)\u001b[39;00m\n\u001b[1;32m   1227\u001b[0m \u001b[38;5;124;03m\"\"\"\u001b[39;00m\n\u001b[1;32m   1228\u001b[0m kwds \u001b[38;5;241m=\u001b[39m {\u001b[38;5;124m'\u001b[39m\u001b[38;5;124mkeepdims\u001b[39m\u001b[38;5;124m'\u001b[39m: keepdims} \u001b[38;5;28;01mif\u001b[39;00m keepdims \u001b[38;5;129;01mis\u001b[39;00m \u001b[38;5;129;01mnot\u001b[39;00m np\u001b[38;5;241m.\u001b[39m_NoValue \u001b[38;5;28;01melse\u001b[39;00m {}\n\u001b[0;32m-> 1229\u001b[0m \u001b[38;5;28;01mreturn\u001b[39;00m \u001b[43m_wrapfunc\u001b[49m\u001b[43m(\u001b[49m\u001b[43ma\u001b[49m\u001b[43m,\u001b[49m\u001b[43m \u001b[49m\u001b[38;5;124;43m'\u001b[39;49m\u001b[38;5;124;43margmax\u001b[39;49m\u001b[38;5;124;43m'\u001b[39;49m\u001b[43m,\u001b[49m\u001b[43m \u001b[49m\u001b[43maxis\u001b[49m\u001b[38;5;241;43m=\u001b[39;49m\u001b[43maxis\u001b[49m\u001b[43m,\u001b[49m\u001b[43m \u001b[49m\u001b[43mout\u001b[49m\u001b[38;5;241;43m=\u001b[39;49m\u001b[43mout\u001b[49m\u001b[43m,\u001b[49m\u001b[43m \u001b[49m\u001b[38;5;241;43m*\u001b[39;49m\u001b[38;5;241;43m*\u001b[39;49m\u001b[43mkwds\u001b[49m\u001b[43m)\u001b[49m\n",
      "File \u001b[0;32m~/anaconda3/envs/lappd-tof-analysis/lib/python3.11/site-packages/numpy/core/fromnumeric.py:59\u001b[0m, in \u001b[0;36m_wrapfunc\u001b[0;34m(obj, method, *args, **kwds)\u001b[0m\n\u001b[1;32m     56\u001b[0m     \u001b[38;5;28;01mreturn\u001b[39;00m _wrapit(obj, method, \u001b[38;5;241m*\u001b[39margs, \u001b[38;5;241m*\u001b[39m\u001b[38;5;241m*\u001b[39mkwds)\n\u001b[1;32m     58\u001b[0m \u001b[38;5;28;01mtry\u001b[39;00m:\n\u001b[0;32m---> 59\u001b[0m     \u001b[38;5;28;01mreturn\u001b[39;00m \u001b[43mbound\u001b[49m\u001b[43m(\u001b[49m\u001b[38;5;241;43m*\u001b[39;49m\u001b[43margs\u001b[49m\u001b[43m,\u001b[49m\u001b[43m \u001b[49m\u001b[38;5;241;43m*\u001b[39;49m\u001b[38;5;241;43m*\u001b[39;49m\u001b[43mkwds\u001b[49m\u001b[43m)\u001b[49m\n\u001b[1;32m     60\u001b[0m \u001b[38;5;28;01mexcept\u001b[39;00m \u001b[38;5;167;01mTypeError\u001b[39;00m:\n\u001b[1;32m     61\u001b[0m     \u001b[38;5;66;03m# A TypeError occurs if the object does have such a method in its\u001b[39;00m\n\u001b[1;32m     62\u001b[0m     \u001b[38;5;66;03m# class, but its signature is not identical to that of NumPy's. This\u001b[39;00m\n\u001b[0;32m   (...)\u001b[0m\n\u001b[1;32m     66\u001b[0m     \u001b[38;5;66;03m# Call _wrapit from within the except clause to ensure a potential\u001b[39;00m\n\u001b[1;32m     67\u001b[0m     \u001b[38;5;66;03m# exception has a traceback chain.\u001b[39;00m\n\u001b[1;32m     68\u001b[0m     \u001b[38;5;28;01mreturn\u001b[39;00m _wrapit(obj, method, \u001b[38;5;241m*\u001b[39margs, \u001b[38;5;241m*\u001b[39m\u001b[38;5;241m*\u001b[39mkwds)\n",
      "\u001b[0;31mValueError\u001b[0m: attempt to get argmax of an empty sequence"
     ]
    }
   ],
   "source": [
    "#Loading the pre-reduced data\n",
    "#load the waveforms into the events attribute\n",
    "for acdc_num, a in acdcs.items():\n",
    "    a[\"obj\"] = Acdc.Acdc(a[\"config\"])\n",
    "\n",
    "    #the configuration is now parsed, so we can find which station id\n",
    "    #in order to parse the filetag at the end of the data filenames. \n",
    "    bnum = a[\"obj\"].c[\"station_id\"]\n",
    "    if bnum == 1:\n",
    "        a[\"obj\"].read_events_from_file(\"../../LAPPDTestData/Raw_ProtonData_20240701_134140_b0_prereduced.p\")\n",
    "    elif bnum == 0:\n",
    "        a[\"obj\"].read_events_from_file(\"../../LAPPDTestData/Raw_ProtonData_20240701_134140_b1_prereduced.p\")\n",
    "    a[\"obj\"].populate_ch_rqs()"
   ]
  },
  {
   "cell_type": "code",
   "execution_count": null,
   "metadata": {},
   "outputs": [],
   "source": [
    "\n",
    "import matplotlib.pyplot as plt\n",
    "import Analysis\n",
    "import Analysis.Analysis\n",
    "\n",
    "an = Analysis.Analysis.Analysis(\"\", \"\")\n",
    "c, s = an.construct_coincidence(acdcs[44][\"obj\"], acdcs[43][\"obj\"])\n",
    "print(str(s)+\" seconds difference between the WR PPS counter of the two stations.\")\n",
    "plt.hist(np.transpose(np.array(c))[2], bins=20)\n",
    "plt.xlabel(\"Time Difference $t_2 - t_1$ (ns)\")\n",
    "plt.ylabel(\"# of Coincidence Pairs\")\n",
    "plt.title(\"Subsecond WR Counter Comparison Between Two Stations, After Coincidence Cut\")"
   ]
  }
 ],
 "metadata": {
  "kernelspec": {
   "display_name": "lappd-tof-analysis",
   "language": "python",
   "name": "python3"
  },
  "language_info": {
   "codemirror_mode": {
    "name": "ipython",
    "version": 3
   },
   "file_extension": ".py",
   "mimetype": "text/x-python",
   "name": "python",
   "nbconvert_exporter": "python",
   "pygments_lexer": "ipython3",
   "version": "3.11.10"
  }
 },
 "nbformat": 4,
 "nbformat_minor": 4
}
