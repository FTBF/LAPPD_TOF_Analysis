{
 "cells": [
  {
   "cell_type": "code",
   "execution_count": 2,
   "metadata": {},
   "outputs": [],
   "source": [
    "import numpy as np\n",
    "import matplotlib.pyplot as plt \n",
    "import sys\n",
    "import glob\n",
    "plt.style.use(\"~/evanstyle.mplstyle\") #change this if you want! or comment\n",
    "\n",
    "sys.path.append('../WaveformPlotter/')\n",
    "sys.path.append(\"../Acdc/\")\n",
    "import WaveformPlotter\n",
    "import Acdc"
   ]
  },
  {
   "cell_type": "code",
   "execution_count": 4,
   "metadata": {},
   "outputs": [],
   "source": [
    "\n",
    "#this set of boards is used in the July 2024 proton data at test-beam\n",
    "acdcs = {44:{\"obj\":None, \"config\":\"../configs/acdc44.yml\", \"infiles\": [], \"pedfiles\": []}, \\\n",
    "\t43:{\"obj\":None, \"config\":\"../configs/acdc43.yml\", \"infiles\": [], \"pedfiles\": []}}\n",
    "\n",
    "#Configure some data filepaths\n",
    "#you'll likely want to keep paths as we may be committing/pushing\n",
    "#multiple paths. Just use a comment\n",
    "datadir = \"../../data/20240701ProtonDataFTBF/\"\n"
   ]
  },
  {
   "cell_type": "code",
   "execution_count": 22,
   "metadata": {},
   "outputs": [
    {
     "name": "stdout",
     "output_type": "stream",
     "text": [
      "Loading data from ../../data/20240701ProtonDataFTBF/Raw_ProtonData_20240701_132327_b0_prereduced.p\n",
      "Loading data from ../../data/20240701ProtonDataFTBF/Raw_ProtonData_20240701_135251_b1_prereduced.p\n"
     ]
    }
   ],
   "source": [
    "\n",
    "#load the waveforms into the events attribute\n",
    "just_acdc_objects = []\n",
    "for acdc_num, a in acdcs.items():\n",
    "\ta[\"obj\"] = Acdc.Acdc(a[\"config\"])\n",
    "\tbnum = a[\"obj\"].c[\"station_id\"] \n",
    "\tprereduced_files = glob.glob(datadir + f\"*b{bnum}_prereduced.p\")\n",
    "\t#just use one of the files\n",
    "\tprint(\"Loading data from\", prereduced_files[0])\n",
    "\ta[\"obj\"].read_events_from_file(prereduced_files[0])\n",
    "\ta[\"obj\"].load_default_times()\n",
    "\tjust_acdc_objects.append(a[\"obj\"])\n",
    "\n",
    "\n",
    "#create the waveform plotter object\n",
    "wp = WaveformPlotter.WaveformPlotter(just_acdc_objects)\n",
    "\t"
   ]
  },
  {
   "cell_type": "code",
   "execution_count": null,
   "metadata": {},
   "outputs": [],
   "source": [
    "for i in range(10):\n",
    "    fig, ax = wp.plot_waveforms_separated(station_id=0)\n",
    "    plt.savefig(\"../../plots/example_waveforms/{:d}_b0.png\".format(i))\n",
    "\n",
    "for i in range(10, 20):\n",
    "    fig, ax = wp.plot_waveforms_separated(station_id=0)\n",
    "    plt.savefig(\"../../plots/example_waveforms/{:d}_b1.png\".format(i))"
   ]
  },
  {
   "cell_type": "code",
   "execution_count": null,
   "metadata": {},
   "outputs": [],
   "source": []
  }
 ],
 "metadata": {
  "kernelspec": {
   "display_name": "llnl",
   "language": "python",
   "name": "python3"
  },
  "language_info": {
   "codemirror_mode": {
    "name": "ipython",
    "version": 3
   },
   "file_extension": ".py",
   "mimetype": "text/x-python",
   "name": "python",
   "nbconvert_exporter": "python",
   "pygments_lexer": "ipython3",
   "version": "3.11.8"
  }
 },
 "nbformat": 4,
 "nbformat_minor": 2
}
